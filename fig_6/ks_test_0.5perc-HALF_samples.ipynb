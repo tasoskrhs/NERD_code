{
 "cells": [
  {
   "cell_type": "markdown",
   "id": "dfb3e50c",
   "metadata": {},
   "source": [
    "<h2>Figure 6 lower middle</h2>"
   ]
  },
  {
   "cell_type": "code",
   "execution_count": 1,
   "id": "0fd1ba50",
   "metadata": {},
   "outputs": [],
   "source": [
    "import scipy.io\n",
    "import tensorflow as tf   # tested with tf 1.15.3\n",
    "import numpy as np\n",
    "import matplotlib.pyplot as plt\n",
    "import os\n",
    "from numpy import genfromtxt\n",
    "from scipy import stats\n",
    "\n",
    "import csv\n",
    "import sys"
   ]
  },
  {
   "cell_type": "code",
   "execution_count": 2,
   "id": "d298744b",
   "metadata": {},
   "outputs": [],
   "source": [
    "alpha_range = [0.5, 0.8]; # alpha's in the output data files\n",
    "\n",
    "iters = 60 # number of iid runs for each alpha\n",
    "alpha_pos = 0 #   0 --> a=0.5, 1 --> a=0.8\n"
   ]
  },
  {
   "cell_type": "code",
   "execution_count": 3,
   "id": "d41a5d3d",
   "metadata": {},
   "outputs": [],
   "source": [
    "x1 = np.zeros(shape=(iters,1))\n",
    "\n",
    "#load Healthy-Healthy data\n",
    "for i in range(1, iters):\n",
    "    \n",
    "    P = genfromtxt('./all_Healthy_vs_Healthy_markers_1_2_3_4_5_6_7_8_9_10_11_12_13_14_15_16/N_39000/Lip1_arch_16_16_16_8_1_lr_0.01_alpha_0.5_0.8_sick_first/H3_H4_H5_H6_H7_HALF_SAMPLES_vs_Healthy_markers_1_2_3_4_5_6_7_8_9_10_11_12_13_14_15_16lambda_1.0_gp_0.1_bs_4000_nerd_iter' + str(i) + '.csv', delimiter=',', dtype='float32')\n",
    "    x1[i] = P[alpha_pos]\n",
    "    "
   ]
  },
  {
   "cell_type": "code",
   "execution_count": 4,
   "id": "2929683c",
   "metadata": {},
   "outputs": [],
   "source": [
    "x2 = np.zeros(shape=(iters,1))\n",
    "\n",
    "#load Healthy-CBF at 0.5% spike-in data\n",
    "for i in range(1, iters):\n",
    "    \n",
    "    P = genfromtxt('./all_Healthy_vs_CBF_0.5perc_markers_1_2_3_4_5_6_7_8_9_10_11_12_13_14_15_16/N_39000/Lip1_arch_16_16_16_8_1_lr_0.01_alpha_0.5_0.8_sick_first/H3_H4_H5_H6_H7_HALF_SAMPLES_vs_CBF_perc5_markers_1_2_3_4_5_6_7_8_9_10_11_12_13_14_15_16lambda_1.0_gp_0.1_bs_4000_nerd_iter' + str(i) + '.csv', delimiter=',', dtype='float32')\n",
    "    x2[i] = P[alpha_pos]\n",
    "    "
   ]
  },
  {
   "cell_type": "code",
   "execution_count": 5,
   "id": "abbf48b3",
   "metadata": {},
   "outputs": [
    {
     "data": {
      "text/plain": [
       "(60, 1)"
      ]
     },
     "execution_count": 5,
     "metadata": {},
     "output_type": "execute_result"
    }
   ],
   "source": [
    "x1.shape\n",
    "#x2.shape"
   ]
  },
  {
   "cell_type": "code",
   "execution_count": 9,
   "id": "79abe8c2",
   "metadata": {},
   "outputs": [
    {
     "data": {
      "text/plain": [
       "(0.0, 0.3)"
      ]
     },
     "execution_count": 9,
     "metadata": {},
     "output_type": "execute_result"
    },
    {
     "data": {
      "image/png": "[encoded data removed]",
      "text/plain": [
       "<Figure size 432x288 with 1 Axes>"
      ]
     },
     "metadata": {
      "needs_background": "light"
     },
     "output_type": "display_data"
    }
   ],
   "source": [
    "edges = np.arange(0.02, 0.052, 0.0012)\n",
    "plt.hist(x1, edges, weights=np.ones(len(x1)) / len(x1), density=False, alpha=0.75, label='Healthy vs Healthy')\n",
    "\n",
    "edges2 = np.arange(0.02, 0.052, 0.0012)\n",
    "plt.hist(x2, edges2, weights=np.ones(len(x2)) / len(x2), density=False, alpha=0.75, label='Healthy + $0.5\\%$ diseased  vs Healthy')\n",
    "\n",
    "#plt.legend({'Healthy vs Healthy', 'Healthy + $0.5\\%$ diseased  vs Healthy'}, loc='upper right') \n",
    "plt.legend(loc='upper right') \n",
    "plt.xlabel(r'$\\hat{\\mathcal{R}}_{\\alpha}(Q ||P)$')\n",
    "plt.ylabel('histogram (normalized)')\n",
    "\n",
    "plt.xlim(0.02, 0.052)\n",
    "plt.ylim(0, 0.3)\n"
   ]
  },
  {
   "cell_type": "code",
   "execution_count": 6,
   "id": "f9b850fc",
   "metadata": {},
   "outputs": [
    {
     "data": {
      "text/plain": [
       "Ks_2sampResult(statistic=0.95, pvalue=5.8135955075842714e-30)"
      ]
     },
     "execution_count": 6,
     "metadata": {},
     "output_type": "execute_result"
    }
   ],
   "source": [
    "# KS test\n",
    "stats.ks_2samp(x1[:,0], x2[:,0])"
   ]
  },
  {
   "cell_type": "code",
   "execution_count": null,
   "id": "ef20ebc6",
   "metadata": {},
   "outputs": [],
   "source": []
  }
 ],
 "metadata": {
  "kernelspec": {
   "display_name": "Python 3",
   "language": "python",
   "name": "python3"
  },
  "language_info": {
   "codemirror_mode": {
    "name": "ipython",
    "version": 3
   },
   "file_extension": ".py",
   "mimetype": "text/x-python",
   "name": "python",
   "nbconvert_exporter": "python",
   "pygments_lexer": "ipython3",
   "version": "3.6.9"
  }
 },
 "nbformat": 4,
 "nbformat_minor": 5
}
